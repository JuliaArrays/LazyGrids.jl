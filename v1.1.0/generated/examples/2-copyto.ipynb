{
 "cells": [
  {
   "cell_type": "markdown",
   "source": [
    "# copyto! test\n",
    "\n",
    "This page examines `copyto!` speed of the lazy grids in the Julia package\n",
    "[`LazyGrids`](https://github.com/JuliaArrays/LazyGrids.jl)."
   ],
   "metadata": {}
  },
  {
   "cell_type": "markdown",
   "source": [
    "### Setup"
   ],
   "metadata": {}
  },
  {
   "cell_type": "markdown",
   "source": [
    "Packages needed here."
   ],
   "metadata": {}
  },
  {
   "outputs": [],
   "cell_type": "code",
   "source": [
    "using LazyGrids: ndgrid, ndgrid_array\n",
    "using LazyGrids: btime, @timeo # not exported; just for timing tests here\n",
    "using BenchmarkTools: @benchmark\n",
    "using InteractiveUtils: versioninfo"
   ],
   "metadata": {},
   "execution_count": null
  },
  {
   "cell_type": "markdown",
   "source": [
    "## Overview\n",
    "\n",
    "There are several sub-types of `AbstractGrids`.\n",
    "Here we focus on the simplest (using `OneTo`)\n",
    "and the most general (`AbstractVector`)."
   ],
   "metadata": {}
  },
  {
   "cell_type": "markdown",
   "source": [
    "## `OneTo`"
   ],
   "metadata": {}
  },
  {
   "outputs": [],
   "cell_type": "code",
   "source": [
    "dims = (2^7,2^8,2^9)\n",
    "\n",
    "(xl, _, _) = ndgrid(dims...) # lazy version\n",
    "xa = Array(xl) # regular dense Array\n",
    "out = zeros(Int, dims)\n",
    "sizeof.((xl, xa))"
   ],
   "metadata": {},
   "execution_count": null
  },
  {
   "outputs": [],
   "cell_type": "code",
   "source": [
    "ta = @benchmark copyto!(out, xa) # 12.6ms\n",
    "btime(ta)"
   ],
   "metadata": {},
   "execution_count": null
  },
  {
   "outputs": [],
   "cell_type": "code",
   "source": [
    "tl = @benchmark copyto!(out, xl) # 27.3ms\n",
    "btime(tl)"
   ],
   "metadata": {},
   "execution_count": null
  },
  {
   "cell_type": "markdown",
   "source": [
    "## `AbstractVector`"
   ],
   "metadata": {}
  },
  {
   "outputs": [],
   "cell_type": "code",
   "source": [
    "x,y,z = map(rand, dims)\n",
    "\n",
    "(xl, _, _) = ndgrid(dims...)\n",
    "xa = Array(xl)\n",
    "out = zeros(eltype(x), dims)\n",
    "sizeof.((xl, xa))"
   ],
   "metadata": {},
   "execution_count": null
  },
  {
   "outputs": [],
   "cell_type": "code",
   "source": [
    "ta = @benchmark copyto!(out, xa) # 15.7ms\n",
    "btime(ta)"
   ],
   "metadata": {},
   "execution_count": null
  },
  {
   "outputs": [],
   "cell_type": "code",
   "source": [
    "tl = @benchmark copyto!(out, xl) # 21.7ms\n",
    "btime(tl)"
   ],
   "metadata": {},
   "execution_count": null
  },
  {
   "cell_type": "markdown",
   "source": [
    "These results suggest that `copyto!` is somewhat slower\n",
    "for a lazy grid than for an `Array`.\n",
    "This drawback could be reduced or possibly even eliminated\n",
    "by adding a dedicated `copyto!` method\n",
    "for lazy grids.\n",
    "Submit an issue or PR if there is a use case\n",
    "that needs faster `copyto!`.\n",
    "\n",
    "See\n",
    "[broadcasting](https://docs.julialang.org/en/v1/manual/interfaces/#man-interfaces-broadcasting)."
   ],
   "metadata": {}
  },
  {
   "cell_type": "markdown",
   "source": [
    "---\n",
    "\n",
    "*This notebook was generated using [Literate.jl](https://github.com/fredrikekre/Literate.jl).*"
   ],
   "metadata": {}
  }
 ],
 "nbformat_minor": 3,
 "metadata": {
  "language_info": {
   "file_extension": ".jl",
   "mimetype": "application/julia",
   "name": "julia",
   "version": "1.11.5"
  },
  "kernelspec": {
   "name": "julia-1.11",
   "display_name": "Julia 1.11.5",
   "language": "julia"
  }
 },
 "nbformat": 4
}
