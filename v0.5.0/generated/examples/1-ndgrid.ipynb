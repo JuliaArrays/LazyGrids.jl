{
 "cells": [
  {
   "cell_type": "markdown",
   "source": [
    "# LazyGrids ndgrid"
   ],
   "metadata": {}
  },
  {
   "cell_type": "markdown",
   "source": [
    "This page explains the `ndgrid` method(s) in the Julia package\n",
    "[`LazyGrids`](https://github.com/JuliaArrays/LazyGrids.jl).\n",
    "\n",
    "This page was generated from a single Julia file:\n",
    "[1-ndgrid.jl](https://github.com/JuliaArrays/LazyGrids.jl/blob/main/docs/lit/examples/1-ndgrid.jl)."
   ],
   "metadata": {}
  },
  {
   "cell_type": "markdown",
   "source": [
    "### Setup"
   ],
   "metadata": {}
  },
  {
   "cell_type": "markdown",
   "source": [
    "Packages needed here."
   ],
   "metadata": {}
  },
  {
   "outputs": [],
   "cell_type": "code",
   "source": [
    "using LazyGrids: ndgrid, ndgrid_array\n",
    "using LazyGrids: btime, @timeo # not exported; just for timing tests here\n",
    "using BenchmarkTools: @benchmark\n",
    "using InteractiveUtils: versioninfo"
   ],
   "metadata": {},
   "execution_count": null
  },
  {
   "cell_type": "markdown",
   "source": [
    "### Overview\n",
    "\n",
    "We begin with simple illustrations.\n",
    "\n",
    "The Julia method `ndgrid_array` in this package\n",
    "is comparable to Matlab's `ndgrid` function.\n",
    "It is given a long name here\n",
    "to discourage its use,\n",
    "because the lazy `ndgrid` version is preferable.\n",
    "The package provides `ndgrid_array`\n",
    "mainly for testing and timing comparisons."
   ],
   "metadata": {}
  },
  {
   "outputs": [],
   "cell_type": "code",
   "source": [
    "(xa, ya) = ndgrid_array(1.0:3.0, 1:2)"
   ],
   "metadata": {},
   "execution_count": null
  },
  {
   "outputs": [],
   "cell_type": "code",
   "source": [
    "xa"
   ],
   "metadata": {},
   "execution_count": null
  },
  {
   "outputs": [],
   "cell_type": "code",
   "source": [
    "ya"
   ],
   "metadata": {},
   "execution_count": null
  },
  {
   "cell_type": "markdown",
   "source": [
    "This package provides a \"lazy\" version of `ndgrid` that appears to the user\n",
    "to be the same, but under the hood it is not storing huge arrays."
   ],
   "metadata": {}
  },
  {
   "outputs": [],
   "cell_type": "code",
   "source": [
    "(xl, yl) = ndgrid(1.0:3.0, 1:2)"
   ],
   "metadata": {},
   "execution_count": null
  },
  {
   "outputs": [],
   "cell_type": "code",
   "source": [
    "xl"
   ],
   "metadata": {},
   "execution_count": null
  },
  {
   "outputs": [],
   "cell_type": "code",
   "source": [
    "yl"
   ],
   "metadata": {},
   "execution_count": null
  },
  {
   "cell_type": "markdown",
   "source": [
    "The following example illustrates the memory savings\n",
    "(thanks to Julia's powerful `AbstractArray` type):"
   ],
   "metadata": {}
  },
  {
   "outputs": [],
   "cell_type": "code",
   "source": [
    "(xl, yl) = ndgrid(1:100, 1:200)\n",
    "(xa, ya) = ndgrid_array(1:100, 1:200)\n",
    "sizeof(xl), sizeof(xa)"
   ],
   "metadata": {},
   "execution_count": null
  },
  {
   "cell_type": "markdown",
   "source": [
    "One can do everything with a lazy array that one would expect\n",
    "from a \"normal\" array, e.g., multiplication and summation:"
   ],
   "metadata": {}
  },
  {
   "outputs": [],
   "cell_type": "code",
   "source": [
    "sum(xl * xl'), sum(xa * xa')"
   ],
   "metadata": {},
   "execution_count": null
  },
  {
   "cell_type": "markdown",
   "source": [
    "### Using lazy `ndgrid`\n",
    "\n",
    "Many applications with multiple variables\n",
    "involve evaluating functions over a *grid* of values.\n",
    "\n",
    "As a simple example (for illustration),\n",
    "one can numerically approximate the area of the unit circle\n",
    "by sampling that circle over a grid of x,y values,\n",
    "corresponding to numerical evaluation of the double integral\n",
    "$∫ ∫ 1_{\\{x^2 + y^2 < 1\\}} \\, dx \\, dy$.\n",
    "There are many ways to implement this approximation in Julia,\n",
    "given a vector of `x` and `y` samples."
   ],
   "metadata": {}
  },
  {
   "outputs": [],
   "cell_type": "code",
   "source": [
    "Δ = 1/2^10\n",
    "x = range(-1, stop=1, step=Δ)\n",
    "y = copy(x)\n",
    "\n",
    "@inline circle(x::Real, y::Real) = abs2(x) + abs2(y) < 1\n",
    "@inline circle(xy::NTuple{2}) = circle(xy...)"
   ],
   "metadata": {},
   "execution_count": null
  },
  {
   "cell_type": "markdown",
   "source": [
    "The documentation below has many timing comparisons.\n",
    "The times in the Julia comments are on a 2017 iMac with Julia 1.6.1;\n",
    "the times printed out are whatever server GitHub actions uses.\n",
    "Using a trick to [capture output](https://fredrikekre.github.io/Literate.jl/v2/generated/example/#Output-Capturing),\n",
    "let's find out:"
   ],
   "metadata": {}
  },
  {
   "outputs": [],
   "cell_type": "code",
   "source": [
    "io = IOBuffer()\n",
    "versioninfo(io)\n",
    "split(String(take!(io)), '\\n')"
   ],
   "metadata": {},
   "execution_count": null
  },
  {
   "cell_type": "markdown",
   "source": [
    "A basic double loop is the C/Fortran way.\n",
    "It uses minimal memory (only 48 bytes) but is somewhat slow."
   ],
   "metadata": {}
  },
  {
   "outputs": [],
   "cell_type": "code",
   "source": [
    "function method0(x,y) # basic double loop\n",
    "    sum = 0.0\n",
    "    for x in x, y in y\n",
    "        sum += circle(x,y)\n",
    "    end\n",
    "    return sum * Δ^2\n",
    "end\n",
    "\n",
    "area0 = method0(x,y)\n",
    "t = @benchmark method0($x,$y) # 10.5 ms (3 allocations: 48 bytes)\n",
    "btime(t)"
   ],
   "metadata": {},
   "execution_count": null
  },
  {
   "cell_type": "markdown",
   "source": [
    "The loop version does not look much like the math.\n",
    "It often seems natural to think of a grid of x,y values\n",
    "and simply sum over that grid, accounting for the grid spacing,\n",
    "using a function like this:"
   ],
   "metadata": {}
  },
  {
   "outputs": [],
   "cell_type": "code",
   "source": [
    "area(xx,yy) = sum(circle.(xx,yy)) * Δ^2"
   ],
   "metadata": {},
   "execution_count": null
  },
  {
   "cell_type": "markdown",
   "source": [
    "Users coming from Matlab who are unfamiliar with its newer broadcast\n",
    "capabilities might use an `ndgrid` of arrays, like in the following code,\n",
    "to compute the area.\n",
    "But this array approach is much slower and uses much more memory,\n",
    "so it does not scale well to higher dimensions."
   ],
   "metadata": {}
  },
  {
   "outputs": [],
   "cell_type": "code",
   "source": [
    "function area_array(x, y)\n",
    "    (xa, ya) = ndgrid_array(x, y)\n",
    "    return area(xa, ya)\n",
    "end\n",
    "@assert area_array(x, y) ≈ area0\n",
    "t = @benchmark area_array($x, $y) # 21.4 ms (11 allocations: 64.57 MiB)\n",
    "btime(t)"
   ],
   "metadata": {},
   "execution_count": null
  },
  {
   "cell_type": "markdown",
   "source": [
    "To be fair, one might have multiple uses of the grids `xa,ya`\n",
    "so perhaps they should be excluded from the timing.\n",
    "Separating that allocation makes the timing look faster,\n",
    "but it still uses a lot of memory,\n",
    "both for allocating the grids, and for the `circle.` broadcast\n",
    "in the `area` function above:"
   ],
   "metadata": {}
  },
  {
   "outputs": [],
   "cell_type": "code",
   "source": [
    "(xa, ya) = ndgrid_array(x, y)\n",
    "@assert area(xa, ya) ≈ area0\n",
    "t = @benchmark area($xa, $ya) # 5.2 ms (7 allocations: 516.92 KiB)\n",
    "btime(t)"
   ],
   "metadata": {},
   "execution_count": null
  },
  {
   "cell_type": "markdown",
   "source": [
    "The main point of this package is to provide\n",
    "a lazy version of `ndgrid` that uses minimal memory."
   ],
   "metadata": {}
  },
  {
   "outputs": [],
   "cell_type": "code",
   "source": [
    "(xl, yl) = ndgrid(x, y)\n",
    "@assert xl == xa\n",
    "@assert yl == ya\n",
    "sizeof(xa), sizeof(xl)"
   ],
   "metadata": {},
   "execution_count": null
  },
  {
   "cell_type": "markdown",
   "source": [
    "Now there is essentially no memory overhead for the grids,\n",
    "but memory is still used for the `circle.` broadcast."
   ],
   "metadata": {}
  },
  {
   "outputs": [],
   "cell_type": "code",
   "source": [
    "@assert area(xl,yl) ≈ area0\n",
    "t = @benchmark area($xl,$yl) # 3.7 ms (7 allocations: 516.92 KiB)\n",
    "btime(t)"
   ],
   "metadata": {},
   "execution_count": null
  },
  {
   "cell_type": "markdown",
   "source": [
    "Furthermore, creating this lazy ndgrid is so efficient\n",
    "that we can include its construction time\n",
    "and still have performance comparable to the array version\n",
    "that had pre-allocated arrays."
   ],
   "metadata": {}
  },
  {
   "outputs": [],
   "cell_type": "code",
   "source": [
    "function area_lazy(x, y)\n",
    "    (xl, yl) = ndgrid(x, y)\n",
    "    return area(xl, yl)\n",
    "end\n",
    "@assert area_lazy(x, y) ≈ area0\n",
    "t = @benchmark area_lazy($x, $y) # 3.7 ms (7 allocations: 516.92 KiB)\n",
    "btime(t)"
   ],
   "metadata": {},
   "execution_count": null
  },
  {
   "cell_type": "markdown",
   "source": [
    "### More details\n",
    "\n",
    "The comparisons below here might be more\n",
    "for the curiosity of the package developers\n",
    "than for most users...\n",
    "\n",
    "One can preallocate memory to store the `circle.` array,\n",
    "to avoid additional memory during the area calculation:"
   ],
   "metadata": {}
  },
  {
   "outputs": [],
   "cell_type": "code",
   "source": [
    "out = Array{Float64}(undef, length(x), length(y))\n",
    "function area!(xx, yy)\n",
    "    global out .= circle.(xx,yy)\n",
    "    return sum(out) * Δ^2\n",
    "end\n",
    "@assert area!(xl,yl) ≈ area0\n",
    "t = @benchmark area!(xl,yl) # 4.8 ms (4 allocations: 128 bytes)\n",
    "btime(t)"
   ],
   "metadata": {},
   "execution_count": null
  },
  {
   "cell_type": "markdown",
   "source": [
    "Interestingly, the lazy version is *faster* than the array version,\n",
    "presumably because of the overheard of moving data from RAM to CPU:"
   ],
   "metadata": {}
  },
  {
   "outputs": [],
   "cell_type": "code",
   "source": [
    "@assert area!(xa,ya) ≈ area0\n",
    "t = @benchmark area!(xa,ya) # 6.2 ms (4 allocations: 80 bytes)\n",
    "btime(t)"
   ],
   "metadata": {},
   "execution_count": null
  },
  {
   "cell_type": "markdown",
   "source": [
    "One can avoid allocating the output array by using a loop\n",
    "with [CartesianIndices](https://julialang.org/blog/2016/02/iteration):"
   ],
   "metadata": {}
  },
  {
   "outputs": [],
   "cell_type": "code",
   "source": [
    "function area_ci(xx, yy)\n",
    "    size(xx) == size(yy) || throw(\"size\")\n",
    "    sum = 0.0\n",
    "    @inbounds for c in CartesianIndices(xx)\n",
    "        sum += circle(xx[c], yy[c])\n",
    "    end\n",
    "    return sum * Δ^2\n",
    "end"
   ],
   "metadata": {},
   "execution_count": null
  },
  {
   "cell_type": "markdown",
   "source": [
    "With this approach the lazy version is a bit faster\n",
    "than the array version:"
   ],
   "metadata": {}
  },
  {
   "outputs": [],
   "cell_type": "code",
   "source": [
    "@assert area_ci(xl,yl) ≈ area0\n",
    "t = @benchmark area_ci(xl,yl) # 5.2 ms (3 allocations: 48 bytes)\n",
    "btime(t)"
   ],
   "metadata": {},
   "execution_count": null
  },
  {
   "outputs": [],
   "cell_type": "code",
   "source": [
    "@assert area_ci(xa,ya) ≈ area0\n",
    "t = @benchmark area_ci(xa,ya) # 5.9 ms (3 allocations: 48 bytes)\n",
    "btime(t)"
   ],
   "metadata": {},
   "execution_count": null
  },
  {
   "cell_type": "markdown",
   "source": [
    "Alternatively one can use a linear index for loop,\n",
    "that also avoids the extra memory of `circle.` above,\n",
    "but is slower, especially for the lazy arrays\n",
    "that are optimized for Cartesian indexing:"
   ],
   "metadata": {}
  },
  {
   "outputs": [],
   "cell_type": "code",
   "source": [
    "function area_for2(xx,yy)\n",
    "    size(xx) == size(yy) || throw(\"size\")\n",
    "    sum = 0.0\n",
    "    @inbounds for i in 1:length(xx)\n",
    "        sum += circle(xx[i], yy[i])\n",
    "    end\n",
    "    return sum * Δ^2\n",
    "end\n",
    "@assert area_for2(xa, ya) ≈ area0\n",
    "t = @benchmark area_for2($xa, $ya) # 5.9 ms (3 allocations: 48 bytes)\n",
    "btime(t)"
   ],
   "metadata": {},
   "execution_count": null
  },
  {
   "outputs": [],
   "cell_type": "code",
   "source": [
    "@assert area_for2(xl, yl) ≈ area0\n",
    "t = @benchmark area_for2($xl, $yl) # 15.4 ms (3 allocations: 48 bytes)\n",
    "btime(t)"
   ],
   "metadata": {},
   "execution_count": null
  },
  {
   "cell_type": "markdown",
   "source": [
    "Some Julia users would\n",
    "[recommend using broadcast](https://discourse.julialang.org/t/meshgrid-function-in-julia/48679/25).\n",
    "In this case, broadcast is reasonably fast, but still uses a lot of memory\n",
    "for the `circle.` output in the simplest implementation."
   ],
   "metadata": {}
  },
  {
   "outputs": [],
   "cell_type": "code",
   "source": [
    "areab(x,y) = sum(circle.(x,y')) * Δ^2\n",
    "@assert areab(x,y) ≈ area0\n",
    "t = @benchmark areab($x,$y) # 11.6 ms (7 allocations: 516.92 KiB)\n",
    "btime(t)"
   ],
   "metadata": {},
   "execution_count": null
  },
  {
   "cell_type": "markdown",
   "source": [
    "Using `zip` can avoid the \"extra\" memory beyond the grids,\n",
    "but seems to have some undesirable overhead,\n",
    "presumably because `zip` uses linear indexing:"
   ],
   "metadata": {}
  },
  {
   "outputs": [],
   "cell_type": "code",
   "source": [
    "areaz(xa, ya) = sum(circle, zip(xa,ya)) * Δ^2\n",
    "@assert areaz(xa, ya) ≈ area0\n",
    "t = @benchmark areaz($xa, $ya) # 3.9 ms (3 allocations: 48 bytes)\n",
    "btime(t)"
   ],
   "metadata": {},
   "execution_count": null
  },
  {
   "outputs": [],
   "cell_type": "code",
   "source": [
    "@assert areaz(xl, yl) ≈ area0\n",
    "t = @benchmark areaz($xl, $yl) # 12.2 ms (3 allocations: 48 bytes)\n",
    "btime(t)"
   ],
   "metadata": {},
   "execution_count": null
  },
  {
   "cell_type": "markdown",
   "source": [
    "One can also ensure low memory by using a product iterator,\n",
    "but the code starts to look pretty different from the math at this point\n",
    "and it is not much faster than broadcast here."
   ],
   "metadata": {}
  },
  {
   "outputs": [],
   "cell_type": "code",
   "source": [
    "areap(x,y) = sum(circle, Iterators.product(x, y)) * Δ^2\n",
    "@assert areap(x,y) ≈ area0\n",
    "t = @benchmark areap($x, $y) # 9.9 ms (3 allocations: 48 bytes)\n",
    "btime(t)"
   ],
   "metadata": {},
   "execution_count": null
  },
  {
   "cell_type": "markdown",
   "source": [
    "### 3D case"
   ],
   "metadata": {}
  },
  {
   "cell_type": "markdown",
   "source": [
    "A 3D example is finding (verifying) the volume of a unit sphere."
   ],
   "metadata": {}
  },
  {
   "outputs": [],
   "cell_type": "code",
   "source": [
    "sphere(x::Real,y::Real,z::Real) = abs2(x) + abs2(y) + abs2(z) < 1\n",
    "sphere(r::NTuple) = sum(abs2, r) < 1"
   ],
   "metadata": {},
   "execution_count": null
  },
  {
   "cell_type": "markdown",
   "source": [
    "Storing three 3D arrays of size 2049^3 Float64 would take 192GB,\n",
    "so already we must greatly reduce the sampling to use either\n",
    "`broadcast` or `ndgrid_array`.\n",
    "Furthermore, the `broadcast` requires annoying `reshape` steps:"
   ],
   "metadata": {}
  },
  {
   "outputs": [],
   "cell_type": "code",
   "source": [
    "Δc = 1/2^8 # coarse grid\n",
    "xc = range(-1, stop=1, step=Δc)\n",
    "yc = xc\n",
    "zc = xc\n",
    "nc = length(zc)\n",
    "3 * nc^3 * 8 / 1024^3 # GB prediction"
   ],
   "metadata": {},
   "execution_count": null
  },
  {
   "cell_type": "markdown",
   "source": [
    "Here is broadcast in 3D (yuch!):"
   ],
   "metadata": {}
  },
  {
   "outputs": [],
   "cell_type": "code",
   "source": [
    "vol_br(x,y,z,Δ) = sum(sphere.(\n",
    "        repeat(x, 1, length(y), length(z)),\n",
    "        repeat(reshape(y, (1, :, 1)), length(x), 1, length(z)),\n",
    "        repeat(reshape(z, (1, 1, :)), length(x), length(y), 1),\n",
    "    )) * Δ^3\n",
    "vol_br([0.],[0.],[0.],Δc) # warm-up\n",
    "@timeo vol0 = vol_br(xc,yc,zc,Δc) # 2.7 sec, 3.0 GiB, roughly (4/3)π\n",
    "\n",
    "function vol_ci(xx, yy, zz, Δ)\n",
    "    size(xx) == size(yy) == size(zz) || throw(\"size\")\n",
    "    sum = 0.0\n",
    "    @inbounds for c in CartesianIndices(xx)\n",
    "        sum += sphere(xx[c], yy[c], zz[c])\n",
    "    end\n",
    "    return sum * Δ^3\n",
    "end"
   ],
   "metadata": {},
   "execution_count": null
  },
  {
   "cell_type": "markdown",
   "source": [
    "Here is the lazy version:"
   ],
   "metadata": {}
  },
  {
   "outputs": [],
   "cell_type": "code",
   "source": [
    "(xlc, ylc, zlc) = ndgrid(xc, yc, zc) # warm-up\n",
    "@timeo (xlc, ylc, zlc) = ndgrid(xc, yc, zc); # 0.000022 sec (1.8 KiB)"
   ],
   "metadata": {},
   "execution_count": null
  },
  {
   "outputs": [],
   "cell_type": "code",
   "source": [
    "vol_ci([0.], [0.], [0.], Δc) # warm-up\n",
    "@timeo vol_ci(xlc, ylc, zlc, Δc) # 0.2 sec, 1.4 MiB"
   ],
   "metadata": {},
   "execution_count": null
  },
  {
   "cell_type": "markdown",
   "source": [
    "Creating the grid of arrays itself is quite slow, even for the coarse grid:"
   ],
   "metadata": {}
  },
  {
   "outputs": [],
   "cell_type": "code",
   "source": [
    "(xac, yac, zac) = ndgrid_array(xc, yc, zc) # warm-up\n",
    "@timeo (xac, yac, zac) = ndgrid_array(xc, yc, zc) # 1.8 sec 3.0GiB"
   ],
   "metadata": {},
   "execution_count": null
  },
  {
   "cell_type": "markdown",
   "source": [
    "Once created, the array version is no faster than the lazy version:"
   ],
   "metadata": {}
  },
  {
   "outputs": [],
   "cell_type": "code",
   "source": [
    "@timeo vol_ci(xac, yac, zac, Δc) # 0.2 seconds (1.1 MiB)"
   ],
   "metadata": {},
   "execution_count": null
  },
  {
   "cell_type": "markdown",
   "source": [
    "Using `zip` is more concise (but slower):"
   ],
   "metadata": {}
  },
  {
   "outputs": [],
   "cell_type": "code",
   "source": [
    "vol_zip(xx, yy, zz, Δ) = sum(sphere, zip(xx,yy,zz)) * Δ^3"
   ],
   "metadata": {},
   "execution_count": null
  },
  {
   "outputs": [],
   "cell_type": "code",
   "source": [
    "vol_zip([0.], [0.], [0.], Δc) # warm-up\n",
    "@timeo vol_zip(xlc, ylc, zlc, Δc) # 1.0 sec, 26 MiB"
   ],
   "metadata": {},
   "execution_count": null
  },
  {
   "cell_type": "markdown",
   "source": [
    "Using zip for the array version seems to have less overhead\n",
    "so that is a potential for future improvement:"
   ],
   "metadata": {}
  },
  {
   "outputs": [],
   "cell_type": "code",
   "source": [
    "@assert vol_zip(xac, yac, zac, Δc) ≈ vol0\n",
    "@timeo vol_zip(xac, yac, zac, Δc) # 0.19 sec, 16 byte"
   ],
   "metadata": {},
   "execution_count": null
  },
  {
   "cell_type": "markdown",
   "source": [
    "Importantly, with the lazy ndgrid now we can return to the fine scale;\n",
    "it takes a few seconds, but it is feasible because of the low memory."
   ],
   "metadata": {}
  },
  {
   "outputs": [],
   "cell_type": "code",
   "source": [
    "z = copy(x)\n",
    "@timeo (xlf, ylf, zlf) = ndgrid(x, y, z) # 0.000023 sec"
   ],
   "metadata": {},
   "execution_count": null
  },
  {
   "outputs": [],
   "cell_type": "code",
   "source": [
    "@timeo vol_ci(xlf, ylf, zlf, Δ) # 12.7 sec, 16 bytes"
   ],
   "metadata": {},
   "execution_count": null
  },
  {
   "cell_type": "markdown",
   "source": [
    "I was hoping that with a lazy grid, now we could explore\n",
    "higher-dimensional spheres.  But with the current `zip` overhead\n",
    "it was too slow, even with coarse grid.\n",
    "\n",
    "`@timeo (π^2/2, sum(sphere, zip(ndgrid(xc,xc,xc,xc)...)) * Δc^4)`\n",
    "\n",
    "Probably I need to learn more about stuff like `pairs(IndexCartesian(), A)`\n",
    "[e.g., this PR](https://github.com/JuliaLang/julia/pull/38150).\n",
    "Another day..."
   ],
   "metadata": {}
  },
  {
   "cell_type": "markdown",
   "source": [
    "### Reproducibility"
   ],
   "metadata": {}
  },
  {
   "cell_type": "markdown",
   "source": [
    "This page was generated with the following version of Julia:"
   ],
   "metadata": {}
  },
  {
   "outputs": [],
   "cell_type": "code",
   "source": [
    "io = IOBuffer(); versioninfo(io); split(String(take!(io)), '\\n')"
   ],
   "metadata": {},
   "execution_count": null
  },
  {
   "cell_type": "markdown",
   "source": [
    "And with the following package versions"
   ],
   "metadata": {}
  },
  {
   "outputs": [],
   "cell_type": "code",
   "source": [
    "import Pkg; Pkg.status()"
   ],
   "metadata": {},
   "execution_count": null
  },
  {
   "cell_type": "markdown",
   "source": [
    "---\n",
    "\n",
    "*This notebook was generated using [Literate.jl](https://github.com/fredrikekre/Literate.jl).*"
   ],
   "metadata": {}
  }
 ],
 "nbformat_minor": 3,
 "metadata": {
  "language_info": {
   "file_extension": ".jl",
   "mimetype": "application/julia",
   "name": "julia",
   "version": "1.8.3"
  },
  "kernelspec": {
   "name": "julia-1.8",
   "display_name": "Julia 1.8.3",
   "language": "julia"
  }
 },
 "nbformat": 4
}
